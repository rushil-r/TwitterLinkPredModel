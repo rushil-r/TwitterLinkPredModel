{
  "nbformat": 4,
  "nbformat_minor": 0,
  "metadata": {
    "colab": {
      "provenance": [],
      "gpuType": "A100",
      "machine_shape": "hm",
      "include_colab_link": true
    },
    "kernelspec": {
      "name": "python3",
      "display_name": "Python 3"
    },
    "language_info": {
      "name": "python"
    },
    "accelerator": "GPU"
  },
  "cells": [
    {
      "cell_type": "markdown",
      "metadata": {
        "id": "view-in-github",
        "colab_type": "text"
      },
      "source": [
        "<a href=\"https://colab.research.google.com/github/rushil-r/TwitterLinkPredModel/blob/main/nets312_ml_TWITTER.ipynb\" target=\"_parent\"><img src=\"https://colab.research.google.com/assets/colab-badge.svg\" alt=\"Open In Colab\"/></a>"
      ]
    },
    {
      "cell_type": "markdown",
      "source": [
        "In this notebook, we illustrate the use of Machine Learning (ML) for link suggestions in the Facebook (FB) graph. We will follow a traditional ML approach that involves manually selecting features, creating a model based on logistic regression, training it, and then evaluating its performance. Let's start by loading the Facebook graph:"
      ],
      "metadata": {
        "id": "3K5pu9V5qWLK"
      }
    },
    {
      "cell_type": "code",
      "execution_count": null,
      "metadata": {
        "colab": {
          "base_uri": "https://localhost:8080/",
          "height": 74
        },
        "id": "QIlW4VFHnn9S",
        "outputId": "4a9cee95-697a-4f9c-8004-af945d5c9d9f"
      },
      "outputs": [
        {
          "output_type": "display_data",
          "data": {
            "application/javascript": [
              "IPython.notebook.set_autosave_interval(60000)"
            ]
          },
          "metadata": {}
        },
        {
          "output_type": "stream",
          "name": "stdout",
          "text": [
            "Autosaving every 60 seconds\n",
            "Drive already mounted at /content/drive; to attempt to forcibly remount, call drive.mount(\"/content/drive\", force_remount=True).\n"
          ]
        }
      ],
      "source": [
        "# Import necessary libraries\n",
        "from google.colab import drive\n",
        "import networkx as nx\n",
        "import pandas as pd\n",
        "import numpy as np\n",
        "import random\n",
        "from sklearn.model_selection import train_test_split\n",
        "from sklearn.linear_model import LogisticRegression\n",
        "from sklearn.metrics import classification_report, accuracy_score\n",
        "%autosave 60\n",
        "\n",
        "# Mount Google Drive: This is used if you decided to work in Colab using files in your Google Drive\n",
        "drive.mount('/content/drive')\n",
        "\n",
        "# Path to your file on Google Drive: 1) Download facebook_combined.txt.gz; 2) Decompressed as a .txt; 3) Rename and locate wherever you like...\n",
        "file_path = '/content/drive/My Drive/Colab Notebooks/twitterFull.txt'\n",
        "\n",
        "# Create a new graph and name it twtr\n",
        "twtr = nx.DiGraph()# Create a graph from the edgelist file\n",
        "twtr = nx.read_edgelist(file_path, create_using=nx.DiGraph(), nodetype=int)\n"
      ]
    },
    {
      "cell_type": "markdown",
      "source": [
        "First, we need to create features for each pair of nodes that can be used to predict whether a link should exist between them. Some common features for link prediction in social networks include: # of Common Neighbors, Jaccard Coefficient, or\n",
        "the product of the degrees of the two nodes."
      ],
      "metadata": {
        "id": "iciuzCPMq6Vx"
      }
    },
    {
      "cell_type": "code",
      "source": [
        "# Feature Engineering\n",
        "def compute_features(pair):\n",
        "    u, v = pair\n",
        "\n",
        "    neighborsSetU = set(twtr.neighbors(u))\n",
        "    neighborsSetV = set(twtr.neighbors(v))\n",
        "    predecessorsSetU = set(twtr.predecessors(u))\n",
        "    predecessorsSetV = set(twtr.predecessors(v))\n",
        "\n",
        "    # ALL COMMENTS DOCUMENTING FEATURES ARE BELOW, ABOVE THE RELEVANT METHOD DEF\n",
        "    print(u, v)\n",
        "\n",
        "    # Jaccard Coefficient -- same as covered in class, but for both the outNeighborhood (directed edge from u/v)\n",
        "    # and the inNeighborhood (directed edge from v/u)\n",
        "    def jcrdDistOutDeg(u, v):\n",
        "        if not ((not neighborsSetU) or (not neighborsSetV)):\n",
        "            # unionSet = neighborsSetU | neighborsSetV\n",
        "            # unUV = len(unionSet)\n",
        "            inUV = len(neighborsSetU & neighborsSetV)\n",
        "            return inUV/max(len(neighborsSetU | neighborsSetV), 1)\n",
        "        return 0\n",
        "\n",
        "    def jcrdDistInDeg(u, v):\n",
        "        if not ((not predecessorsSetU) or (not predecessorsSetV)):\n",
        "            # unionSet = predecessorsSetU | predecessorsSetV\n",
        "            # unUV = len(unionSet)\n",
        "            inUV = len(predecessorsSetU & predecessorsSetV)\n",
        "            return inUV/max(len(predecessorsSetU | predecessorsSetV), 1)\n",
        "        return 0\n",
        "\n",
        "    # Cosine Similarity -- for both indegree and outdegree, calculate cossin sim\n",
        "    def cosSimOutDeg(u, v):\n",
        "        return len(neighborsSetU & neighborsSetV) / max(np.sqrt(len(neighborsSetU) * len(neighborsSetV)), 1)\n",
        "\n",
        "    def cosSimInDeg(u, v):\n",
        "        return len(predecessorsSetU & predecessorsSetV) / max(np.sqrt(len(predecessorsSetU) * len(predecessorsSetV)), 1)\n",
        "\n",
        "    #Adamic Adar index of each node equal to\n",
        "    # $A(x,y)=\\sum_{u\\in N(x)\\cap N(y)}\\frac{1}{\\log|N(u)|}$ (latex)\n",
        "    # calced for both outNeighbors and inNeighbors\n",
        "    def adamicAdarOutDeg(u, v):\n",
        "        combinedOutNeighbors = (neighborsSetU & neighborsSetV)\n",
        "        if not combinedOutNeighbors:\n",
        "            return 0\n",
        "        else:\n",
        "            inverseDegSum = 0\n",
        "            for node in combinedOutNeighbors:\n",
        "                inverseDegSum += (1.0 / max(np.log10(twtr.in_degree(node)), 1))\n",
        "                # G.in_degree(node) called here bc node is a successor of both u&v, so if we\n",
        "                # consider 'node' to have 2 'neighborhoods' (N_{in} and N_{out}), then we want to\n",
        "                # calculate with respect to the (size of the) neighborhood set which includes u and v\n",
        "            return inverseDegSum\n",
        "\n",
        "    def adamicAdarInDeg(u, v):\n",
        "        combinedInNeighbors = (predecessorsSetU & predecessorsSetV)\n",
        "        if not combinedInNeighbors:\n",
        "            return 0\n",
        "        else:\n",
        "            inverseDegSum = 0\n",
        "            for node in combinedInNeighbors:\n",
        "                inverseDegSum += (1.0 / max(np.log10(twtr.out_degree(node)), 1))\n",
        "                # G.out_degree(node) called here bc node is a predecessor of both u&v, so if we\n",
        "                # consider 'node' to have 2 'neighborhoods' (N_{in} and N_{out}), then we want to\n",
        "                # calculate with respect to the (size of the) neighborhood set which includes u and v\n",
        "            return inverseDegSum\n",
        "\n",
        "    commonFollowing = len(neighborsSetU | neighborsSetV)\n",
        "\n",
        "    commonFollowedBy = len(predecessorsSetU | predecessorsSetV)\n",
        "\n",
        "    jaccardFollowing = jcrdDistOutDeg(u, v)\n",
        "    jaccardFollowedBy = jcrdDistInDeg(u, v)\n",
        "\n",
        "    cosineSimFollowing = cosSimOutDeg(u, v)\n",
        "    cosineSimFollowedBy = cosSimInDeg(u, v)\n",
        "\n",
        "    adamicAdarFollowing = adamicAdarInDeg(u, v)\n",
        "    adamicAdarFollowedBy = adamicAdarOutDeg(u, v)\n",
        "\n",
        "\n",
        "    n = twtr.number_of_nodes()\n",
        "    # shortest path length between u and v -- if they already have an edge between,\n",
        "    # them, remove it before calculating. Default max is (n - 1) because that is max\n",
        "    # number of distinct other nodes that can be visited in dipath\n",
        "    if nx.has_path(twtr, u, v):\n",
        "        if twtr.has_edge(u, v):\n",
        "            twtr.remove_edge(u,v)\n",
        "            if nx.has_path(twtr, u, v):\n",
        "                pathUV = nx.shortest_path_length(twtr, u, v)\n",
        "            else:\n",
        "                pathUV = n - 1.0\n",
        "            twtr.add_edge(u,v)\n",
        "        else:\n",
        "            pathUV = nx.shortest_path_length(twtr, u,v)\n",
        "    else:\n",
        "        pathUV = n - 1.0\n",
        "    if nx.has_path(twtr, v, u):\n",
        "        if twtr.has_edge(v, u):\n",
        "            twtr.remove_edge(v,u)\n",
        "            if nx.has_path(twtr, v, u):\n",
        "                pathVU = nx.shortest_path_length(twtr, v, u)\n",
        "            else:\n",
        "                pathVU = n - 1.0\n",
        "            twtr.add_edge(v,u)\n",
        "        else:\n",
        "            pathVU = nx.shortest_path_length(twtr, v,u)\n",
        "    else:\n",
        "        pathVU = n - 1.0\n",
        "\n",
        "    # weighted negatively to remain consistent that higher feat values are better\n",
        "    minShortestPaths = -1.0 * min(pathUV, pathVU)\n",
        "\n",
        "    # RATIO of the outdegree PrefAttachment and Indegree prefattachement of u and v\n",
        "    prefAttachmentRatio = (twtr.out_degree(u) * twtr.out_degree(v)) / max(twtr.in_degree(u) * twtr.in_degree(v), 1)\n",
        "\n",
        "\n",
        "\n",
        "    features = {\n",
        "        \"commonFollowing\": commonFollowing,\n",
        "        \"commonFollowedBy\": commonFollowedBy,\n",
        "        \"jaccardFollowing\": jaccardFollowing,\n",
        "        \"jaccardFollowedBy\": jaccardFollowedBy,\n",
        "        \"cosineSimFollowing\": cosineSimFollowing,\n",
        "        \"cosineSimFollowedBy\": cosineSimFollowedBy,\n",
        "        \"adamicAdarFollowing\": adamicAdarFollowing,\n",
        "        \"adamicAdarFollowedBy\": adamicAdarFollowedBy,\n",
        "        \"minShortestPaths\": minShortestPaths,\n",
        "        \"prefAttachmentRatio\": prefAttachmentRatio\n",
        "    }\n",
        "    return features\n",
        "\n",
        "\n"
      ],
      "metadata": {
        "id": "hZ9iPoiknpQ3"
      },
      "execution_count": null,
      "outputs": []
    },
    {
      "cell_type": "markdown",
      "source": [
        "Second, for supervised learning, we need to construct a dataset with examples of connected pair of nodes (positive examples) and disconnected pair of nodes (negative examples). We can use existing links in your graph as positive examples. For negative examples, we can randomly sample pairs of nodes that are not connected. Because the graph is sparse, there are many more negative examples that positive examples. This issue is called 'Class Imbalance' and it can dramatically hurt the performance of our logistic classifier. To overcome this issue, we subsample the number of negative examples so that we have as many negative examples as positive examples."
      ],
      "metadata": {
        "id": "wguuG_wvro0W"
      }
    },
    {
      "cell_type": "code",
      "source": [
        "def randomizedNeg(G, balance):\n",
        "    nodes = list(G)\n",
        "    negSample = []\n",
        "    while len(negSample) < balance:\n",
        "        u, v = random.sample(nodes, 2)\n",
        "        # Check if they form an edge\n",
        "        if not G.has_edge(u, v):\n",
        "            negSample.append((u, v))\n",
        "    return negSample\n",
        "\n",
        "\n",
        "# Constructing the Dataset\n",
        "# negative_samples = random.sample(list(nx.non_edges(twtr)), len(positive_samples))\n",
        "# negative_samples = [(u, v) for u, v in nx.non_edges(twtr) if not twtr.has_edge(u, v)]\n",
        "# negative_samples = random.sample(negative_samples, len(positive_samples)) # Balancing classes with randomization\n",
        "\n",
        "positive_samples = [(u, v) for u, v in twtr.edges()]\n",
        "negative_samples = randomizedNeg(twtr, len(positive_samples))\n",
        "\n",
        "\n",
        "# Compute features for all samples\n",
        "all_samples = positive_samples + negative_samples\n",
        "print(len(all_samples))\n",
        "labels = [1] * len(positive_samples) + [0] * len(negative_samples)\n",
        "# features = [compute_features(pair) for pair in all_samples]\n",
        "\n",
        "\n",
        "features = []\n",
        "i = 0\n",
        "for pair in all_samples:\n",
        "    print(i)\n",
        "    features.append(compute_features(pair))\n",
        "    i+=1\n",
        "\n",
        "\n",
        "# Convert to DataFrame\n",
        "df = pd.DataFrame(features)\n",
        "df['label'] = labels"
      ],
      "metadata": {
        "id": "x1tiP8_4r4Aq"
      },
      "execution_count": null,
      "outputs": []
    },
    {
      "cell_type": "markdown",
      "source": [
        "Let's take a look at the dataframe..."
      ],
      "metadata": {
        "id": "7dDe0_qLa_-7"
      }
    },
    {
      "cell_type": "code",
      "source": [
        "print(df.head())\n",
        "print(df.tail())\n",
        "print(df.describe()) # This line shows the statistics of the dataset\n",
        "print(len(df) - len(df.dropna()))\n",
        "(f\"Number of samples in each class: {len(positive_samples)}\")"
      ],
      "metadata": {
        "colab": {
          "base_uri": "https://localhost:8080/",
          "height": 1451
        },
        "id": "to95R4Thi4vE",
        "outputId": "919e93dd-baee-4633-9f91-ebcd71bd1d52"
      },
      "execution_count": null,
      "outputs": [
        {
          "output_type": "stream",
          "name": "stdout",
          "text": [
            "   commonFollowing  commonFollowedBy  jaccardFollowing  jaccardFollowedBy  \\\n",
            "0              251              2466          0.055777           0.071371   \n",
            "1              311               374          0.331190           0.296791   \n",
            "2              296               352          0.418919           0.321023   \n",
            "3              344               586          0.188953           0.126280   \n",
            "4              217               380          0.004608           0.134211   \n",
            "\n",
            "   cosineSimFollowing  cosineSimFollowedBy  adamicAdarFollowing  \\\n",
            "0            0.134010             0.264382            86.486744   \n",
            "1            0.497869             0.473736            51.666071   \n",
            "2            0.590583             0.498907            52.300963   \n",
            "3            0.318192             0.251753            34.123639   \n",
            "4            0.034179             0.239937            23.110136   \n",
            "\n",
            "   adamicAdarFollowedBy  minShortestPaths  prefAttachmentRatio  label  \n",
            "0              4.960350              -2.0             0.024628      1  \n",
            "1             44.479687              -2.0             0.779599      1  \n",
            "2             53.713338              -2.0             0.859337      1  \n",
            "3             26.081819              -2.0             0.482986      1  \n",
            "4              0.333721              -2.0             0.018946      1  \n",
            "         commonFollowing  commonFollowedBy  jaccardFollowing  \\\n",
            "3536293                2                 5               0.0   \n",
            "3536294              112               113               0.0   \n",
            "3536295                3                 9               0.0   \n",
            "3536296               60                69               0.0   \n",
            "3536297               17                16               0.0   \n",
            "\n",
            "         jaccardFollowedBy  cosineSimFollowing  cosineSimFollowedBy  \\\n",
            "3536293                0.0                 0.0                  0.0   \n",
            "3536294                0.0                 0.0                  0.0   \n",
            "3536295                0.0                 0.0                  0.0   \n",
            "3536296                0.0                 0.0                  0.0   \n",
            "3536297                0.0                 0.0                  0.0   \n",
            "\n",
            "         adamicAdarFollowing  adamicAdarFollowedBy  minShortestPaths  \\\n",
            "3536293                  0.0                   0.0              -5.0   \n",
            "3536294                  0.0                   0.0              -4.0   \n",
            "3536295                  0.0                   0.0              -6.0   \n",
            "3536296                  0.0                   0.0              -3.0   \n",
            "3536297                  0.0                   0.0              -4.0   \n",
            "\n",
            "         prefAttachmentRatio  label  \n",
            "3536293             0.000000      0  \n",
            "3536294             0.509346      0  \n",
            "3536295             0.100000      0  \n",
            "3536296             0.925926      0  \n",
            "3536297             4.666667      0  \n",
            "       commonFollowing  commonFollowedBy  jaccardFollowing  jaccardFollowedBy  \\\n",
            "count     3.536298e+06      3.536298e+06      3.536298e+06       3.536298e+06   \n",
            "mean      9.277450e+01      1.385986e+02      7.998909e-02       8.289356e-02   \n",
            "std       1.210192e+02      3.045335e+02      1.312071e-01       1.397267e-01   \n",
            "min       0.000000e+00      1.000000e+00      0.000000e+00       0.000000e+00   \n",
            "25%       2.200000e+01      1.900000e+01      0.000000e+00       0.000000e+00   \n",
            "50%       5.500000e+01      4.900000e+01      0.000000e+00       0.000000e+00   \n",
            "75%       1.190000e+02      1.220000e+02      1.214912e-01       1.172414e-01   \n",
            "max       2.279000e+03      5.839000e+03      1.000000e+00       1.000000e+00   \n",
            "\n",
            "       cosineSimFollowing  cosineSimFollowedBy  adamicAdarFollowing  \\\n",
            "count        3.536298e+06         3.536298e+06         3.536298e+06   \n",
            "mean         1.411987e-01         1.460508e-01         4.858933e+00   \n",
            "std          1.975694e-01         2.047877e-01         1.072863e+01   \n",
            "min          0.000000e+00         0.000000e+00         0.000000e+00   \n",
            "25%          0.000000e+00         0.000000e+00         0.000000e+00   \n",
            "50%          0.000000e+00         0.000000e+00         0.000000e+00   \n",
            "75%          2.618698e-01         2.595171e-01         5.941252e+00   \n",
            "max          1.000000e+00         1.000000e+00         1.789538e+03   \n",
            "\n",
            "       adamicAdarFollowedBy  minShortestPaths  prefAttachmentRatio      label  \n",
            "count          3.536298e+06      3.536298e+06         3.536298e+06  3536298.0  \n",
            "mean           4.722368e+00     -1.184513e+03         3.744821e+00        0.5  \n",
            "std            8.840370e+00      9.728083e+03         4.187127e+01        0.5  \n",
            "min            0.000000e+00     -8.130500e+04         0.000000e+00        0.0  \n",
            "25%            0.000000e+00     -5.000000e+00         2.487245e-01        0.0  \n",
            "50%            0.000000e+00     -3.000000e+00         9.629630e-01        0.5  \n",
            "75%            6.162179e+00     -2.000000e+00         2.258929e+00        1.0  \n",
            "max            1.810922e+02     -0.000000e+00         1.954900e+04        1.0  \n",
            "0\n"
          ]
        },
        {
          "output_type": "execute_result",
          "data": {
            "text/plain": [
              "'Number of samples in each class: 1768149'"
            ],
            "application/vnd.google.colaboratory.intrinsic+json": {
              "type": "string"
            }
          },
          "metadata": {},
          "execution_count": 10
        }
      ]
    },
    {
      "cell_type": "markdown",
      "source": [
        "Third, let's split our dataset into training and test sets. A common split ratio is 50% training and 50% testing (since we are not going to do model selection, we do not need a validation subset). We use the training set to train our model and the test set to evaluate the model's performance."
      ],
      "metadata": {
        "id": "q_N5Lq7Ar4R2"
      }
    },
    {
      "cell_type": "code",
      "source": [
        "# Data Splitting\n",
        "X_train, X_test, y_train, y_test = train_test_split(df.drop('label', axis=1), df['label'], test_size=0.3, random_state=42)"
      ],
      "metadata": {
        "id": "3BKXaD56i8KN"
      },
      "execution_count": null,
      "outputs": []
    },
    {
      "cell_type": "markdown",
      "source": [
        "Since we are dealing with a binary classification problem (link exists or not), we can use a simple Logistic Regression."
      ],
      "metadata": {
        "id": "4aY6BZVgsLWO"
      }
    },
    {
      "cell_type": "code",
      "source": [
        "# Model Selection and Training\n",
        "model = LogisticRegression(max_iter=5000)\n",
        "print(X_train)\n",
        "model.fit(X_train, y_train)"
      ],
      "metadata": {
        "colab": {
          "base_uri": "https://localhost:8080/",
          "height": 1048
        },
        "id": "-EMIwJH6sgEG",
        "outputId": "e714f065-2a8d-45c3-ba14-5962ccb6ef58"
      },
      "execution_count": null,
      "outputs": [
        {
          "output_type": "stream",
          "name": "stdout",
          "text": [
            "         commonFollowing  commonFollowedBy  jaccardFollowing  \\\n",
            "1056619              239                42          0.037657   \n",
            "2548742               11                 5          0.000000   \n",
            "2673465               13                14          0.000000   \n",
            "3500158              105                33          0.000000   \n",
            "3334118               52                38          0.000000   \n",
            "...                  ...               ...               ...   \n",
            "2356330              110               262          0.000000   \n",
            "3511566               17                26          0.000000   \n",
            "2229084               18                75          0.000000   \n",
            "2768307                3                 4          0.000000   \n",
            "2219110               58               119          0.000000   \n",
            "\n",
            "         jaccardFollowedBy  cosineSimFollowing  cosineSimFollowedBy  \\\n",
            "1056619                0.0            0.194054                  0.0   \n",
            "2548742                0.0            0.000000                  0.0   \n",
            "2673465                0.0            0.000000                  0.0   \n",
            "3500158                0.0            0.000000                  0.0   \n",
            "3334118                0.0            0.000000                  0.0   \n",
            "...                    ...                 ...                  ...   \n",
            "2356330                0.0            0.000000                  0.0   \n",
            "3511566                0.0            0.000000                  0.0   \n",
            "2229084                0.0            0.000000                  0.0   \n",
            "2768307                0.0            0.000000                  0.0   \n",
            "2219110                0.0            0.000000                  0.0   \n",
            "\n",
            "         adamicAdarFollowing  adamicAdarFollowedBy  minShortestPaths  \\\n",
            "1056619                  0.0              8.184954              -2.0   \n",
            "2548742                  0.0              0.000000              -5.0   \n",
            "2673465                  0.0              0.000000              -5.0   \n",
            "3500158                  0.0              0.000000              -4.0   \n",
            "3334118                  0.0              0.000000              -5.0   \n",
            "...                      ...                   ...               ...   \n",
            "2356330                  0.0              0.000000              -5.0   \n",
            "3511566                  0.0              0.000000              -6.0   \n",
            "2229084                  0.0              0.000000              -5.0   \n",
            "2768307                  0.0              0.000000              -6.0   \n",
            "2219110                  0.0              0.000000              -4.0   \n",
            "\n",
            "         prefAttachmentRatio  \n",
            "1056619             5.975000  \n",
            "2548742             6.000000  \n",
            "2673465             0.909091  \n",
            "3500158            15.530864  \n",
            "3334118             2.125000  \n",
            "...                      ...  \n",
            "2356330             0.000000  \n",
            "3511566             0.583333  \n",
            "2229084             0.205714  \n",
            "2768307             0.000000  \n",
            "2219110             1.010204  \n",
            "\n",
            "[2475408 rows x 10 columns]\n"
          ]
        },
        {
          "output_type": "execute_result",
          "data": {
            "text/plain": [
              "LogisticRegression(max_iter=5000)"
            ],
            "text/html": [
              "<style>#sk-container-id-1 {color: black;background-color: white;}#sk-container-id-1 pre{padding: 0;}#sk-container-id-1 div.sk-toggleable {background-color: white;}#sk-container-id-1 label.sk-toggleable__label {cursor: pointer;display: block;width: 100%;margin-bottom: 0;padding: 0.3em;box-sizing: border-box;text-align: center;}#sk-container-id-1 label.sk-toggleable__label-arrow:before {content: \"▸\";float: left;margin-right: 0.25em;color: #696969;}#sk-container-id-1 label.sk-toggleable__label-arrow:hover:before {color: black;}#sk-container-id-1 div.sk-estimator:hover label.sk-toggleable__label-arrow:before {color: black;}#sk-container-id-1 div.sk-toggleable__content {max-height: 0;max-width: 0;overflow: hidden;text-align: left;background-color: #f0f8ff;}#sk-container-id-1 div.sk-toggleable__content pre {margin: 0.2em;color: black;border-radius: 0.25em;background-color: #f0f8ff;}#sk-container-id-1 input.sk-toggleable__control:checked~div.sk-toggleable__content {max-height: 200px;max-width: 100%;overflow: auto;}#sk-container-id-1 input.sk-toggleable__control:checked~label.sk-toggleable__label-arrow:before {content: \"▾\";}#sk-container-id-1 div.sk-estimator input.sk-toggleable__control:checked~label.sk-toggleable__label {background-color: #d4ebff;}#sk-container-id-1 div.sk-label input.sk-toggleable__control:checked~label.sk-toggleable__label {background-color: #d4ebff;}#sk-container-id-1 input.sk-hidden--visually {border: 0;clip: rect(1px 1px 1px 1px);clip: rect(1px, 1px, 1px, 1px);height: 1px;margin: -1px;overflow: hidden;padding: 0;position: absolute;width: 1px;}#sk-container-id-1 div.sk-estimator {font-family: monospace;background-color: #f0f8ff;border: 1px dotted black;border-radius: 0.25em;box-sizing: border-box;margin-bottom: 0.5em;}#sk-container-id-1 div.sk-estimator:hover {background-color: #d4ebff;}#sk-container-id-1 div.sk-parallel-item::after {content: \"\";width: 100%;border-bottom: 1px solid gray;flex-grow: 1;}#sk-container-id-1 div.sk-label:hover label.sk-toggleable__label {background-color: #d4ebff;}#sk-container-id-1 div.sk-serial::before {content: \"\";position: absolute;border-left: 1px solid gray;box-sizing: border-box;top: 0;bottom: 0;left: 50%;z-index: 0;}#sk-container-id-1 div.sk-serial {display: flex;flex-direction: column;align-items: center;background-color: white;padding-right: 0.2em;padding-left: 0.2em;position: relative;}#sk-container-id-1 div.sk-item {position: relative;z-index: 1;}#sk-container-id-1 div.sk-parallel {display: flex;align-items: stretch;justify-content: center;background-color: white;position: relative;}#sk-container-id-1 div.sk-item::before, #sk-container-id-1 div.sk-parallel-item::before {content: \"\";position: absolute;border-left: 1px solid gray;box-sizing: border-box;top: 0;bottom: 0;left: 50%;z-index: -1;}#sk-container-id-1 div.sk-parallel-item {display: flex;flex-direction: column;z-index: 1;position: relative;background-color: white;}#sk-container-id-1 div.sk-parallel-item:first-child::after {align-self: flex-end;width: 50%;}#sk-container-id-1 div.sk-parallel-item:last-child::after {align-self: flex-start;width: 50%;}#sk-container-id-1 div.sk-parallel-item:only-child::after {width: 0;}#sk-container-id-1 div.sk-dashed-wrapped {border: 1px dashed gray;margin: 0 0.4em 0.5em 0.4em;box-sizing: border-box;padding-bottom: 0.4em;background-color: white;}#sk-container-id-1 div.sk-label label {font-family: monospace;font-weight: bold;display: inline-block;line-height: 1.2em;}#sk-container-id-1 div.sk-label-container {text-align: center;}#sk-container-id-1 div.sk-container {/* jupyter's `normalize.less` sets `[hidden] { display: none; }` but bootstrap.min.css set `[hidden] { display: none !important; }` so we also need the `!important` here to be able to override the default hidden behavior on the sphinx rendered scikit-learn.org. See: https://github.com/scikit-learn/scikit-learn/issues/21755 */display: inline-block !important;position: relative;}#sk-container-id-1 div.sk-text-repr-fallback {display: none;}</style><div id=\"sk-container-id-1\" class=\"sk-top-container\"><div class=\"sk-text-repr-fallback\"><pre>LogisticRegression(max_iter=5000)</pre><b>In a Jupyter environment, please rerun this cell to show the HTML representation or trust the notebook. <br />On GitHub, the HTML representation is unable to render, please try loading this page with nbviewer.org.</b></div><div class=\"sk-container\" hidden><div class=\"sk-item\"><div class=\"sk-estimator sk-toggleable\"><input class=\"sk-toggleable__control sk-hidden--visually\" id=\"sk-estimator-id-1\" type=\"checkbox\" checked><label for=\"sk-estimator-id-1\" class=\"sk-toggleable__label sk-toggleable__label-arrow\">LogisticRegression</label><div class=\"sk-toggleable__content\"><pre>LogisticRegression(max_iter=5000)</pre></div></div></div></div></div>"
            ]
          },
          "metadata": {},
          "execution_count": 13
        }
      ]
    },
    {
      "cell_type": "markdown",
      "source": [
        "Once our model is trained, we can evaluate our model's performance on the test set using metrics such as accuracy, precision, recall, F1 score, or ROC AUC. This will give you an idea of how well your model can predict new links in the network."
      ],
      "metadata": {
        "id": "Ps9hSbTdsgu0"
      }
    },
    {
      "cell_type": "code",
      "source": [
        "# Evaluation\n",
        "predictions = model.predict(X_test)\n",
        "print(classification_report(y_test, predictions))\n",
        "print(\"Accuracy:\", accuracy_score(y_test, predictions))"
      ],
      "metadata": {
        "colab": {
          "base_uri": "https://localhost:8080/"
        },
        "id": "ZQs7EEZVssFu",
        "outputId": "0f2545d6-3420-4975-8f17-e15abe3d985e"
      },
      "execution_count": null,
      "outputs": [
        {
          "output_type": "stream",
          "name": "stdout",
          "text": [
            "              precision    recall  f1-score   support\n",
            "\n",
            "           0       0.97      0.99      0.98    530376\n",
            "           1       0.99      0.97      0.98    530514\n",
            "\n",
            "    accuracy                           0.98   1060890\n",
            "   macro avg       0.98      0.98      0.98   1060890\n",
            "weighted avg       0.98      0.98      0.98   1060890\n",
            "\n",
            "Accuracy: 0.9835402350856356\n"
          ]
        }
      ]
    },
    {
      "cell_type": "markdown",
      "source": [
        "ACCURACY: 98.35402350856356%\n",
        "\n",
        "Precision[0] =  0.97\n",
        "\n",
        "Precision[1] = 0.99\n",
        "\n",
        "Recall[0] = 0.99\n",
        "\n",
        "Recall[1] = 0.97\n",
        "\n",
        "F1-Score[0] = 0.98\n",
        "\n",
        "F1-Score[1] = 0.98\n"
      ],
      "metadata": {
        "id": "ZPhZuLu1ssaj"
      }
    },
    {
      "cell_type": "code",
      "source": [
        "from google.colab import drive\n",
        "drive.mount('/content/drive')\n",
        "!apt-get install texlive-xetex texlive-fonts-recommended texlive-plain-generic\n",
        "%cd /content/drive/MyDrive/Colab\\ Notebooks/\n",
        "!ls\n",
        "!jupyter nbconvert --to pdf nets312_ml_TWITTER.ipynb\n"
      ],
      "metadata": {
        "colab": {
          "base_uri": "https://localhost:8080/"
        },
        "id": "NERSNoENuj_4",
        "outputId": "6b57feac-4b1f-49ab-a670-898375cd1b52"
      },
      "execution_count": null,
      "outputs": [
        {
          "output_type": "stream",
          "name": "stdout",
          "text": [
            "Mounted at /content/drive\n",
            "Reading package lists... Done\n",
            "Building dependency tree... Done\n",
            "Reading state information... Done\n",
            "texlive-fonts-recommended is already the newest version (2021.20220204-1).\n",
            "texlive-plain-generic is already the newest version (2021.20220204-1).\n",
            "texlive-xetex is already the newest version (2021.20220204-1).\n",
            "0 upgraded, 0 newly installed, 0 to remove and 45 not upgraded.\n",
            "/content/drive/MyDrive/Colab Notebooks\n",
            " 724_685875_cf_lgb_01_train_wns_2_HlDVaNp.ipynb\n",
            "'altTimeCopy ROY CIS545_HW5_Fall23_StudentVersion.ipynb'\n",
            "'Chess Project CIS 545.ipynb'\n",
            " chss.Rproj\n",
            "'Copy of Chess Project CIS 545 (1).ipynb'\n",
            "'Copy of Chess Project CIS 545.ipynb'\n",
            "'Copy of HW2_Fall 2023_Student_Version.ipynb'\n",
            "'Copy of HW3_Fall_2023_Student_Version.ipynb'\n",
            "'Copy of Large Language Models.ipynb'\n",
            "'Copy of nets312_ml_TWITTER.ipynb'\n",
            "'Copy of Template_for CIS5210_midterm notes.ipynb'\n",
            " Data_Processing_and_Modeling.ipynb\n",
            "'EDA Chess Project CIS 545.ipynb'\n",
            " FacebookDegree.ipynb\n",
            " fbCombined312.ipynb\n",
            " FBImport.ipynb\n",
            "'FINAL_ROY_Template_for CIS5210_midterm_2_notes.ipynb'\n",
            " hello.R\n",
            " hello.Rd\n",
            "'homework_1 (1).ipynb'\n",
            " Kaggle.ipynb\n",
            " nets312_ml_MovieLens.ipynb\n",
            " nets312_ml_MovieLens.pdf\n",
            " nets312_ml_TWITTER.ipynb\n",
            "'ROY CIS5450-Fall23-HW4-Student-Version.ipynb'\n",
            "'ROY CIS545_HW5_Fall23_StudentVersion.ipynb'\n",
            "'ROY [copy] ccbqa.ipynb'\n",
            "'ROY Copy Chess Project CIS 545.ipynb'\n",
            "'ROY Copy of Homework 1 Student Version FALL 2023.ipynb'\n",
            "'Rushil Roy Homework 1 Student Version FALL 2023.ipynb'\n",
            " split.ipynb\n",
            " twitterFull.txt\n",
            " u.data\n",
            " u.item\n",
            " Untitled\n",
            " Untitled0.ipynb\n",
            " Untitled1.ipynb\n",
            " Untitled2.ipynb\n",
            " u.user\n",
            "'[WORKING COPY] ROY CIS545_HW5_Fall23_StudentVersion.ipynb'\n",
            "[NbConvertApp] Converting notebook nets312_ml_TWITTER.ipynb to pdf\n",
            "/usr/local/lib/python3.10/dist-packages/nbconvert/filters/datatypefilter.py:41: UserWarning: Your element with mimetype(s) dict_keys(['application/javascript']) is not able to be represented.\n",
            "  warn(\n",
            "[NbConvertApp] Writing 53049 bytes to notebook.tex\n",
            "[NbConvertApp] Building PDF\n",
            "[NbConvertApp] Running xelatex 3 times: ['xelatex', 'notebook.tex', '-quiet']\n",
            "[NbConvertApp] Running bibtex 1 time: ['bibtex', 'notebook']\n",
            "[NbConvertApp] WARNING | bibtex had problems, most likely because there were no citations\n",
            "[NbConvertApp] PDF successfully created\n",
            "[NbConvertApp] Writing 58913 bytes to nets312_ml_TWITTER.pdf\n"
          ]
        }
      ]
    }
  ]
}